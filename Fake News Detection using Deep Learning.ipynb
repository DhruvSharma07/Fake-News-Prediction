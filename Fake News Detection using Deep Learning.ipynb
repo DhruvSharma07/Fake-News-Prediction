{
 "cells": [
  {
   "cell_type": "code",
   "execution_count": 1,
   "id": "a2392859",
   "metadata": {},
   "outputs": [],
   "source": [
    "# Importing all the libraries\n",
    "import numpy as np\n",
    "import pandas as pd\n",
    "import re\n",
    "import nltk\n",
    "from nltk.corpus import stopwords\n",
    "from nltk.stem.porter import PorterStemmer\n",
    "from tensorflow.keras.preprocessing.sequence import pad_sequences\n",
    "from tensorflow.keras.preprocessing.text import one_hot\n",
    "from sklearn.model_selection import train_test_split\n",
    "from tensorflow.keras.models import Sequential\n",
    "from tensorflow.keras.layers import Embedding, Dense, Dropout, LSTM\n",
    "from sklearn.metrics import confusion_matrix\n",
    "from mlxtend.plotting import plot_confusion_matrix\n",
    "import matplotlib.pyplot as plt\n",
    "import warnings\n",
    "warnings.filterwarnings(\"ignore\")"
   ]
  },
  {
   "cell_type": "markdown",
   "id": "5ce7f3a2",
   "metadata": {},
   "source": [
    "## Loading the data"
   ]
  },
  {
   "cell_type": "code",
   "execution_count": 2,
   "id": "bb6c00ad",
   "metadata": {},
   "outputs": [
    {
     "name": "stdout",
     "output_type": "stream",
     "text": [
      "Train data shape: (20800, 5)\n"
     ]
    },
    {
     "data": {
      "text/html": [
       "<div>\n",
       "<style scoped>\n",
       "    .dataframe tbody tr th:only-of-type {\n",
       "        vertical-align: middle;\n",
       "    }\n",
       "\n",
       "    .dataframe tbody tr th {\n",
       "        vertical-align: top;\n",
       "    }\n",
       "\n",
       "    .dataframe thead th {\n",
       "        text-align: right;\n",
       "    }\n",
       "</style>\n",
       "<table border=\"1\" class=\"dataframe\">\n",
       "  <thead>\n",
       "    <tr style=\"text-align: right;\">\n",
       "      <th></th>\n",
       "      <th>id</th>\n",
       "      <th>title</th>\n",
       "      <th>author</th>\n",
       "      <th>text</th>\n",
       "      <th>label</th>\n",
       "    </tr>\n",
       "  </thead>\n",
       "  <tbody>\n",
       "    <tr>\n",
       "      <th>0</th>\n",
       "      <td>0</td>\n",
       "      <td>House Dem Aide: We Didn’t Even See Comey’s Let...</td>\n",
       "      <td>Darrell Lucus</td>\n",
       "      <td>House Dem Aide: We Didn’t Even See Comey’s Let...</td>\n",
       "      <td>1</td>\n",
       "    </tr>\n",
       "    <tr>\n",
       "      <th>1</th>\n",
       "      <td>1</td>\n",
       "      <td>FLYNN: Hillary Clinton, Big Woman on Campus - ...</td>\n",
       "      <td>Daniel J. Flynn</td>\n",
       "      <td>Ever get the feeling your life circles the rou...</td>\n",
       "      <td>0</td>\n",
       "    </tr>\n",
       "    <tr>\n",
       "      <th>2</th>\n",
       "      <td>2</td>\n",
       "      <td>Why the Truth Might Get You Fired</td>\n",
       "      <td>Consortiumnews.com</td>\n",
       "      <td>Why the Truth Might Get You Fired October 29, ...</td>\n",
       "      <td>1</td>\n",
       "    </tr>\n",
       "    <tr>\n",
       "      <th>3</th>\n",
       "      <td>3</td>\n",
       "      <td>15 Civilians Killed In Single US Airstrike Hav...</td>\n",
       "      <td>Jessica Purkiss</td>\n",
       "      <td>Videos 15 Civilians Killed In Single US Airstr...</td>\n",
       "      <td>1</td>\n",
       "    </tr>\n",
       "    <tr>\n",
       "      <th>4</th>\n",
       "      <td>4</td>\n",
       "      <td>Iranian woman jailed for fictional unpublished...</td>\n",
       "      <td>Howard Portnoy</td>\n",
       "      <td>Print \\nAn Iranian woman has been sentenced to...</td>\n",
       "      <td>1</td>\n",
       "    </tr>\n",
       "  </tbody>\n",
       "</table>\n",
       "</div>"
      ],
      "text/plain": [
       "   id                                              title              author  \\\n",
       "0   0  House Dem Aide: We Didn’t Even See Comey’s Let...       Darrell Lucus   \n",
       "1   1  FLYNN: Hillary Clinton, Big Woman on Campus - ...     Daniel J. Flynn   \n",
       "2   2                  Why the Truth Might Get You Fired  Consortiumnews.com   \n",
       "3   3  15 Civilians Killed In Single US Airstrike Hav...     Jessica Purkiss   \n",
       "4   4  Iranian woman jailed for fictional unpublished...      Howard Portnoy   \n",
       "\n",
       "                                                text  label  \n",
       "0  House Dem Aide: We Didn’t Even See Comey’s Let...      1  \n",
       "1  Ever get the feeling your life circles the rou...      0  \n",
       "2  Why the Truth Might Get You Fired October 29, ...      1  \n",
       "3  Videos 15 Civilians Killed In Single US Airstr...      1  \n",
       "4  Print \\nAn Iranian woman has been sentenced to...      1  "
      ]
     },
     "execution_count": 2,
     "metadata": {},
     "output_type": "execute_result"
    }
   ],
   "source": [
    "# Load data\n",
    "train = pd.read_csv(\"train.csv\")\n",
    "print(\"Train data shape:\", train.shape)\n",
    "train.head()"
   ]
  },
  {
   "cell_type": "code",
   "execution_count": 3,
   "id": "0ed9c25c",
   "metadata": {},
   "outputs": [
    {
     "name": "stdout",
     "output_type": "stream",
     "text": [
      "Test data shape: (5200, 4)\n"
     ]
    },
    {
     "data": {
      "text/html": [
       "<div>\n",
       "<style scoped>\n",
       "    .dataframe tbody tr th:only-of-type {\n",
       "        vertical-align: middle;\n",
       "    }\n",
       "\n",
       "    .dataframe tbody tr th {\n",
       "        vertical-align: top;\n",
       "    }\n",
       "\n",
       "    .dataframe thead th {\n",
       "        text-align: right;\n",
       "    }\n",
       "</style>\n",
       "<table border=\"1\" class=\"dataframe\">\n",
       "  <thead>\n",
       "    <tr style=\"text-align: right;\">\n",
       "      <th></th>\n",
       "      <th>id</th>\n",
       "      <th>title</th>\n",
       "      <th>author</th>\n",
       "      <th>text</th>\n",
       "    </tr>\n",
       "  </thead>\n",
       "  <tbody>\n",
       "    <tr>\n",
       "      <th>0</th>\n",
       "      <td>20800</td>\n",
       "      <td>Specter of Trump Loosens Tongues, if Not Purse...</td>\n",
       "      <td>David Streitfeld</td>\n",
       "      <td>PALO ALTO, Calif.  —   After years of scorning...</td>\n",
       "    </tr>\n",
       "    <tr>\n",
       "      <th>1</th>\n",
       "      <td>20801</td>\n",
       "      <td>Russian warships ready to strike terrorists ne...</td>\n",
       "      <td>NaN</td>\n",
       "      <td>Russian warships ready to strike terrorists ne...</td>\n",
       "    </tr>\n",
       "    <tr>\n",
       "      <th>2</th>\n",
       "      <td>20802</td>\n",
       "      <td>#NoDAPL: Native American Leaders Vow to Stay A...</td>\n",
       "      <td>Common Dreams</td>\n",
       "      <td>Videos #NoDAPL: Native American Leaders Vow to...</td>\n",
       "    </tr>\n",
       "    <tr>\n",
       "      <th>3</th>\n",
       "      <td>20803</td>\n",
       "      <td>Tim Tebow Will Attempt Another Comeback, This ...</td>\n",
       "      <td>Daniel Victor</td>\n",
       "      <td>If at first you don’t succeed, try a different...</td>\n",
       "    </tr>\n",
       "    <tr>\n",
       "      <th>4</th>\n",
       "      <td>20804</td>\n",
       "      <td>Keiser Report: Meme Wars (E995)</td>\n",
       "      <td>Truth Broadcast Network</td>\n",
       "      <td>42 mins ago 1 Views 0 Comments 0 Likes 'For th...</td>\n",
       "    </tr>\n",
       "  </tbody>\n",
       "</table>\n",
       "</div>"
      ],
      "text/plain": [
       "      id                                              title  \\\n",
       "0  20800  Specter of Trump Loosens Tongues, if Not Purse...   \n",
       "1  20801  Russian warships ready to strike terrorists ne...   \n",
       "2  20802  #NoDAPL: Native American Leaders Vow to Stay A...   \n",
       "3  20803  Tim Tebow Will Attempt Another Comeback, This ...   \n",
       "4  20804                    Keiser Report: Meme Wars (E995)   \n",
       "\n",
       "                    author                                               text  \n",
       "0         David Streitfeld  PALO ALTO, Calif.  —   After years of scorning...  \n",
       "1                      NaN  Russian warships ready to strike terrorists ne...  \n",
       "2            Common Dreams  Videos #NoDAPL: Native American Leaders Vow to...  \n",
       "3            Daniel Victor  If at first you don’t succeed, try a different...  \n",
       "4  Truth Broadcast Network  42 mins ago 1 Views 0 Comments 0 Likes 'For th...  "
      ]
     },
     "execution_count": 3,
     "metadata": {},
     "output_type": "execute_result"
    }
   ],
   "source": [
    "test = pd.read_csv(\"test.csv\")\n",
    "print(\"Test data shape:\", test.shape)\n",
    "test.head()"
   ]
  },
  {
   "cell_type": "code",
   "execution_count": 4,
   "id": "86a8ce2b",
   "metadata": {},
   "outputs": [],
   "source": [
    "train[\"train/test\"] = \"train\"\n",
    "test[\"train/test\"] = \"test\""
   ]
  },
  {
   "cell_type": "code",
   "execution_count": 5,
   "id": "601a103a",
   "metadata": {},
   "outputs": [
    {
     "name": "stdout",
     "output_type": "stream",
     "text": [
      "Combined data shape: (26000, 6)\n"
     ]
    },
    {
     "data": {
      "text/html": [
       "<div>\n",
       "<style scoped>\n",
       "    .dataframe tbody tr th:only-of-type {\n",
       "        vertical-align: middle;\n",
       "    }\n",
       "\n",
       "    .dataframe tbody tr th {\n",
       "        vertical-align: top;\n",
       "    }\n",
       "\n",
       "    .dataframe thead th {\n",
       "        text-align: right;\n",
       "    }\n",
       "</style>\n",
       "<table border=\"1\" class=\"dataframe\">\n",
       "  <thead>\n",
       "    <tr style=\"text-align: right;\">\n",
       "      <th></th>\n",
       "      <th>id</th>\n",
       "      <th>title</th>\n",
       "      <th>author</th>\n",
       "      <th>text</th>\n",
       "      <th>label</th>\n",
       "      <th>train/test</th>\n",
       "    </tr>\n",
       "  </thead>\n",
       "  <tbody>\n",
       "    <tr>\n",
       "      <th>0</th>\n",
       "      <td>0</td>\n",
       "      <td>House Dem Aide: We Didn’t Even See Comey’s Let...</td>\n",
       "      <td>Darrell Lucus</td>\n",
       "      <td>House Dem Aide: We Didn’t Even See Comey’s Let...</td>\n",
       "      <td>1.0</td>\n",
       "      <td>train</td>\n",
       "    </tr>\n",
       "    <tr>\n",
       "      <th>1</th>\n",
       "      <td>1</td>\n",
       "      <td>FLYNN: Hillary Clinton, Big Woman on Campus - ...</td>\n",
       "      <td>Daniel J. Flynn</td>\n",
       "      <td>Ever get the feeling your life circles the rou...</td>\n",
       "      <td>0.0</td>\n",
       "      <td>train</td>\n",
       "    </tr>\n",
       "    <tr>\n",
       "      <th>2</th>\n",
       "      <td>2</td>\n",
       "      <td>Why the Truth Might Get You Fired</td>\n",
       "      <td>Consortiumnews.com</td>\n",
       "      <td>Why the Truth Might Get You Fired October 29, ...</td>\n",
       "      <td>1.0</td>\n",
       "      <td>train</td>\n",
       "    </tr>\n",
       "    <tr>\n",
       "      <th>3</th>\n",
       "      <td>3</td>\n",
       "      <td>15 Civilians Killed In Single US Airstrike Hav...</td>\n",
       "      <td>Jessica Purkiss</td>\n",
       "      <td>Videos 15 Civilians Killed In Single US Airstr...</td>\n",
       "      <td>1.0</td>\n",
       "      <td>train</td>\n",
       "    </tr>\n",
       "    <tr>\n",
       "      <th>4</th>\n",
       "      <td>4</td>\n",
       "      <td>Iranian woman jailed for fictional unpublished...</td>\n",
       "      <td>Howard Portnoy</td>\n",
       "      <td>Print \\nAn Iranian woman has been sentenced to...</td>\n",
       "      <td>1.0</td>\n",
       "      <td>train</td>\n",
       "    </tr>\n",
       "  </tbody>\n",
       "</table>\n",
       "</div>"
      ],
      "text/plain": [
       "   id                                              title              author  \\\n",
       "0   0  House Dem Aide: We Didn’t Even See Comey’s Let...       Darrell Lucus   \n",
       "1   1  FLYNN: Hillary Clinton, Big Woman on Campus - ...     Daniel J. Flynn   \n",
       "2   2                  Why the Truth Might Get You Fired  Consortiumnews.com   \n",
       "3   3  15 Civilians Killed In Single US Airstrike Hav...     Jessica Purkiss   \n",
       "4   4  Iranian woman jailed for fictional unpublished...      Howard Portnoy   \n",
       "\n",
       "                                                text  label train/test  \n",
       "0  House Dem Aide: We Didn’t Even See Comey’s Let...    1.0      train  \n",
       "1  Ever get the feeling your life circles the rou...    0.0      train  \n",
       "2  Why the Truth Might Get You Fired October 29, ...    1.0      train  \n",
       "3  Videos 15 Civilians Killed In Single US Airstr...    1.0      train  \n",
       "4  Print \\nAn Iranian woman has been sentenced to...    1.0      train  "
      ]
     },
     "execution_count": 5,
     "metadata": {},
     "output_type": "execute_result"
    }
   ],
   "source": [
    "# Concatenate train and test data\n",
    "combined_data = pd.concat([train, test], axis=0)\n",
    "print(\"Combined data shape:\", combined_data.shape)\n",
    "combined_data.head()"
   ]
  },
  {
   "cell_type": "markdown",
   "id": "2a263fc1",
   "metadata": {},
   "source": [
    "### Dropping Unnecessary Columns"
   ]
  },
  {
   "cell_type": "code",
   "execution_count": 6,
   "id": "2e87b205",
   "metadata": {},
   "outputs": [
    {
     "data": {
      "text/html": [
       "<div>\n",
       "<style scoped>\n",
       "    .dataframe tbody tr th:only-of-type {\n",
       "        vertical-align: middle;\n",
       "    }\n",
       "\n",
       "    .dataframe tbody tr th {\n",
       "        vertical-align: top;\n",
       "    }\n",
       "\n",
       "    .dataframe thead th {\n",
       "        text-align: right;\n",
       "    }\n",
       "</style>\n",
       "<table border=\"1\" class=\"dataframe\">\n",
       "  <thead>\n",
       "    <tr style=\"text-align: right;\">\n",
       "      <th></th>\n",
       "      <th>text</th>\n",
       "      <th>train/test</th>\n",
       "    </tr>\n",
       "  </thead>\n",
       "  <tbody>\n",
       "    <tr>\n",
       "      <th>0</th>\n",
       "      <td>House Dem Aide: We Didn’t Even See Comey’s Let...</td>\n",
       "      <td>train</td>\n",
       "    </tr>\n",
       "    <tr>\n",
       "      <th>1</th>\n",
       "      <td>Ever get the feeling your life circles the rou...</td>\n",
       "      <td>train</td>\n",
       "    </tr>\n",
       "    <tr>\n",
       "      <th>2</th>\n",
       "      <td>Why the Truth Might Get You Fired October 29, ...</td>\n",
       "      <td>train</td>\n",
       "    </tr>\n",
       "    <tr>\n",
       "      <th>3</th>\n",
       "      <td>Videos 15 Civilians Killed In Single US Airstr...</td>\n",
       "      <td>train</td>\n",
       "    </tr>\n",
       "    <tr>\n",
       "      <th>4</th>\n",
       "      <td>Print \\nAn Iranian woman has been sentenced to...</td>\n",
       "      <td>train</td>\n",
       "    </tr>\n",
       "  </tbody>\n",
       "</table>\n",
       "</div>"
      ],
      "text/plain": [
       "                                                text train/test\n",
       "0  House Dem Aide: We Didn’t Even See Comey’s Let...      train\n",
       "1  Ever get the feeling your life circles the rou...      train\n",
       "2  Why the Truth Might Get You Fired October 29, ...      train\n",
       "3  Videos 15 Civilians Killed In Single US Airstr...      train\n",
       "4  Print \\nAn Iranian woman has been sentenced to...      train"
      ]
     },
     "execution_count": 6,
     "metadata": {},
     "output_type": "execute_result"
    }
   ],
   "source": [
    "combined_data = combined_data.drop(columns=[\"id\", \"author\", \"title\", \"label\"], axis=1)\n",
    "combined_data.head()"
   ]
  },
  {
   "cell_type": "markdown",
   "id": "56a98795",
   "metadata": {},
   "source": [
    "### Checking for null values and removing them"
   ]
  },
  {
   "cell_type": "code",
   "execution_count": 7,
   "id": "7bf961b8",
   "metadata": {},
   "outputs": [
    {
     "data": {
      "text/plain": [
       "text          46\n",
       "train/test     0\n",
       "dtype: int64"
      ]
     },
     "execution_count": 7,
     "metadata": {},
     "output_type": "execute_result"
    }
   ],
   "source": [
    "# Check for null values\n",
    "combined_data.isnull().sum()"
   ]
  },
  {
   "cell_type": "code",
   "execution_count": 8,
   "id": "c207c19f",
   "metadata": {},
   "outputs": [],
   "source": [
    "# Replace missing values\n",
    "combined_data = combined_data.fillna(\" \")"
   ]
  },
  {
   "cell_type": "markdown",
   "id": "3a1661d4",
   "metadata": {},
   "source": [
    "### Cleaning the text and converting them to list of words"
   ]
  },
  {
   "cell_type": "code",
   "execution_count": 9,
   "id": "e4c3a88f",
   "metadata": {},
   "outputs": [
    {
     "data": {
      "text/html": [
       "<div>\n",
       "<style scoped>\n",
       "    .dataframe tbody tr th:only-of-type {\n",
       "        vertical-align: middle;\n",
       "    }\n",
       "\n",
       "    .dataframe tbody tr th {\n",
       "        vertical-align: top;\n",
       "    }\n",
       "\n",
       "    .dataframe thead th {\n",
       "        text-align: right;\n",
       "    }\n",
       "</style>\n",
       "<table border=\"1\" class=\"dataframe\">\n",
       "  <thead>\n",
       "    <tr style=\"text-align: right;\">\n",
       "      <th></th>\n",
       "      <th>text</th>\n",
       "      <th>train/test</th>\n",
       "      <th>cleaned_text</th>\n",
       "    </tr>\n",
       "  </thead>\n",
       "  <tbody>\n",
       "    <tr>\n",
       "      <th>0</th>\n",
       "      <td>House Dem Aide: We Didn’t Even See Comey’s Let...</td>\n",
       "      <td>train</td>\n",
       "      <td>house dem aide  we didn t even see comey s let...</td>\n",
       "    </tr>\n",
       "    <tr>\n",
       "      <th>1</th>\n",
       "      <td>Ever get the feeling your life circles the rou...</td>\n",
       "      <td>train</td>\n",
       "      <td>ever get the feeling your life circles the rou...</td>\n",
       "    </tr>\n",
       "    <tr>\n",
       "      <th>2</th>\n",
       "      <td>Why the Truth Might Get You Fired October 29, ...</td>\n",
       "      <td>train</td>\n",
       "      <td>why the truth might get you fired october     ...</td>\n",
       "    </tr>\n",
       "    <tr>\n",
       "      <th>3</th>\n",
       "      <td>Videos 15 Civilians Killed In Single US Airstr...</td>\n",
       "      <td>train</td>\n",
       "      <td>videos    civilians killed in single us airstr...</td>\n",
       "    </tr>\n",
       "    <tr>\n",
       "      <th>4</th>\n",
       "      <td>Print \\nAn Iranian woman has been sentenced to...</td>\n",
       "      <td>train</td>\n",
       "      <td>print  an iranian woman has been sentenced to ...</td>\n",
       "    </tr>\n",
       "  </tbody>\n",
       "</table>\n",
       "</div>"
      ],
      "text/plain": [
       "                                                text train/test  \\\n",
       "0  House Dem Aide: We Didn’t Even See Comey’s Let...      train   \n",
       "1  Ever get the feeling your life circles the rou...      train   \n",
       "2  Why the Truth Might Get You Fired October 29, ...      train   \n",
       "3  Videos 15 Civilians Killed In Single US Airstr...      train   \n",
       "4  Print \\nAn Iranian woman has been sentenced to...      train   \n",
       "\n",
       "                                        cleaned_text  \n",
       "0  house dem aide  we didn t even see comey s let...  \n",
       "1  ever get the feeling your life circles the rou...  \n",
       "2  why the truth might get you fired october     ...  \n",
       "3  videos    civilians killed in single us airstr...  \n",
       "4  print  an iranian woman has been sentenced to ...  "
      ]
     },
     "execution_count": 9,
     "metadata": {},
     "output_type": "execute_result"
    }
   ],
   "source": [
    "# Function to clean text\n",
    "def clean(text):\n",
    "    cleaned_text = re.sub(\"[^a-zA-Z]\", \" \", text)  # Remove non-alphabet characters\n",
    "    cleaned_text = cleaned_text.lower()  # Convert to lower case\n",
    "    return cleaned_text\n",
    "\n",
    "# Apply the cleaning function\n",
    "combined_data['cleaned_text'] = combined_data['text'].apply(lambda x : clean(x))\n",
    "combined_data.head()"
   ]
  },
  {
   "cell_type": "code",
   "execution_count": 10,
   "id": "c2d0d359",
   "metadata": {},
   "outputs": [
    {
     "data": {
      "text/html": [
       "<div>\n",
       "<style scoped>\n",
       "    .dataframe tbody tr th:only-of-type {\n",
       "        vertical-align: middle;\n",
       "    }\n",
       "\n",
       "    .dataframe tbody tr th {\n",
       "        vertical-align: top;\n",
       "    }\n",
       "\n",
       "    .dataframe thead th {\n",
       "        text-align: right;\n",
       "    }\n",
       "</style>\n",
       "<table border=\"1\" class=\"dataframe\">\n",
       "  <thead>\n",
       "    <tr style=\"text-align: right;\">\n",
       "      <th></th>\n",
       "      <th>text</th>\n",
       "      <th>train/test</th>\n",
       "      <th>cleaned_text</th>\n",
       "      <th>text_to_words</th>\n",
       "    </tr>\n",
       "  </thead>\n",
       "  <tbody>\n",
       "    <tr>\n",
       "      <th>0</th>\n",
       "      <td>House Dem Aide: We Didn’t Even See Comey’s Let...</td>\n",
       "      <td>train</td>\n",
       "      <td>house dem aide  we didn t even see comey s let...</td>\n",
       "      <td>[house, dem, aide, we, didn, t, even, see, com...</td>\n",
       "    </tr>\n",
       "    <tr>\n",
       "      <th>1</th>\n",
       "      <td>Ever get the feeling your life circles the rou...</td>\n",
       "      <td>train</td>\n",
       "      <td>ever get the feeling your life circles the rou...</td>\n",
       "      <td>[ever, get, the, feeling, your, life, circles,...</td>\n",
       "    </tr>\n",
       "    <tr>\n",
       "      <th>2</th>\n",
       "      <td>Why the Truth Might Get You Fired October 29, ...</td>\n",
       "      <td>train</td>\n",
       "      <td>why the truth might get you fired october     ...</td>\n",
       "      <td>[why, the, truth, might, get, you, fired, octo...</td>\n",
       "    </tr>\n",
       "    <tr>\n",
       "      <th>3</th>\n",
       "      <td>Videos 15 Civilians Killed In Single US Airstr...</td>\n",
       "      <td>train</td>\n",
       "      <td>videos    civilians killed in single us airstr...</td>\n",
       "      <td>[videos, civilians, killed, in, single, us, ai...</td>\n",
       "    </tr>\n",
       "    <tr>\n",
       "      <th>4</th>\n",
       "      <td>Print \\nAn Iranian woman has been sentenced to...</td>\n",
       "      <td>train</td>\n",
       "      <td>print  an iranian woman has been sentenced to ...</td>\n",
       "      <td>[print, an, iranian, woman, has, been, sentenc...</td>\n",
       "    </tr>\n",
       "  </tbody>\n",
       "</table>\n",
       "</div>"
      ],
      "text/plain": [
       "                                                text train/test  \\\n",
       "0  House Dem Aide: We Didn’t Even See Comey’s Let...      train   \n",
       "1  Ever get the feeling your life circles the rou...      train   \n",
       "2  Why the Truth Might Get You Fired October 29, ...      train   \n",
       "3  Videos 15 Civilians Killed In Single US Airstr...      train   \n",
       "4  Print \\nAn Iranian woman has been sentenced to...      train   \n",
       "\n",
       "                                        cleaned_text  \\\n",
       "0  house dem aide  we didn t even see comey s let...   \n",
       "1  ever get the feeling your life circles the rou...   \n",
       "2  why the truth might get you fired october     ...   \n",
       "3  videos    civilians killed in single us airstr...   \n",
       "4  print  an iranian woman has been sentenced to ...   \n",
       "\n",
       "                                       text_to_words  \n",
       "0  [house, dem, aide, we, didn, t, even, see, com...  \n",
       "1  [ever, get, the, feeling, your, life, circles,...  \n",
       "2  [why, the, truth, might, get, you, fired, octo...  \n",
       "3  [videos, civilians, killed, in, single, us, ai...  \n",
       "4  [print, an, iranian, woman, has, been, sentenc...  "
      ]
     },
     "execution_count": 10,
     "metadata": {},
     "output_type": "execute_result"
    }
   ],
   "source": [
    "# Function to convert text to list of words\n",
    "def text_to_words(text):\n",
    "    words = text.split()\n",
    "    return words\n",
    "\n",
    "# Apply the function to convert text to list of words\n",
    "combined_data[\"text_to_words\"] = combined_data[\"cleaned_text\"].apply(text_to_words)\n",
    "combined_data.head()"
   ]
  },
  {
   "cell_type": "markdown",
   "id": "d09429a7",
   "metadata": {},
   "source": [
    "## Stemming Data"
   ]
  },
  {
   "cell_type": "code",
   "execution_count": 11,
   "id": "7d0696e2",
   "metadata": {},
   "outputs": [],
   "source": [
    "stemmer = PorterStemmer()\n",
    "stop_words = set(stopwords.words(\"english\"))\n",
    "\n",
    "# Apply the transformation\n",
    "combined_data[\"cleaned_words\"] = combined_data[\"text_to_words\"].apply(\n",
    "    lambda word_list: \" \".join(\n",
    "        [stemmer.stem(word) for word in word_list if word not in stop_words]\n",
    "    )\n",
    ")"
   ]
  },
  {
   "cell_type": "code",
   "execution_count": 12,
   "id": "91a4c452",
   "metadata": {},
   "outputs": [
    {
     "data": {
      "text/html": [
       "<div>\n",
       "<style scoped>\n",
       "    .dataframe tbody tr th:only-of-type {\n",
       "        vertical-align: middle;\n",
       "    }\n",
       "\n",
       "    .dataframe tbody tr th {\n",
       "        vertical-align: top;\n",
       "    }\n",
       "\n",
       "    .dataframe thead th {\n",
       "        text-align: right;\n",
       "    }\n",
       "</style>\n",
       "<table border=\"1\" class=\"dataframe\">\n",
       "  <thead>\n",
       "    <tr style=\"text-align: right;\">\n",
       "      <th></th>\n",
       "      <th>text</th>\n",
       "      <th>train/test</th>\n",
       "      <th>cleaned_text</th>\n",
       "      <th>text_to_words</th>\n",
       "      <th>cleaned_words</th>\n",
       "    </tr>\n",
       "  </thead>\n",
       "  <tbody>\n",
       "    <tr>\n",
       "      <th>0</th>\n",
       "      <td>House Dem Aide: We Didn’t Even See Comey’s Let...</td>\n",
       "      <td>train</td>\n",
       "      <td>house dem aide  we didn t even see comey s let...</td>\n",
       "      <td>[house, dem, aide, we, didn, t, even, see, com...</td>\n",
       "      <td>hous dem aid even see comey letter jason chaff...</td>\n",
       "    </tr>\n",
       "    <tr>\n",
       "      <th>1</th>\n",
       "      <td>Ever get the feeling your life circles the rou...</td>\n",
       "      <td>train</td>\n",
       "      <td>ever get the feeling your life circles the rou...</td>\n",
       "      <td>[ever, get, the, feeling, your, life, circles,...</td>\n",
       "      <td>ever get feel life circl roundabout rather hea...</td>\n",
       "    </tr>\n",
       "    <tr>\n",
       "      <th>2</th>\n",
       "      <td>Why the Truth Might Get You Fired October 29, ...</td>\n",
       "      <td>train</td>\n",
       "      <td>why the truth might get you fired october     ...</td>\n",
       "      <td>[why, the, truth, might, get, you, fired, octo...</td>\n",
       "      <td>truth might get fire octob tension intellig an...</td>\n",
       "    </tr>\n",
       "    <tr>\n",
       "      <th>3</th>\n",
       "      <td>Videos 15 Civilians Killed In Single US Airstr...</td>\n",
       "      <td>train</td>\n",
       "      <td>videos    civilians killed in single us airstr...</td>\n",
       "      <td>[videos, civilians, killed, in, single, us, ai...</td>\n",
       "      <td>video civilian kill singl us airstrik identifi...</td>\n",
       "    </tr>\n",
       "    <tr>\n",
       "      <th>4</th>\n",
       "      <td>Print \\nAn Iranian woman has been sentenced to...</td>\n",
       "      <td>train</td>\n",
       "      <td>print  an iranian woman has been sentenced to ...</td>\n",
       "      <td>[print, an, iranian, woman, has, been, sentenc...</td>\n",
       "      <td>print iranian woman sentenc six year prison ir...</td>\n",
       "    </tr>\n",
       "    <tr>\n",
       "      <th>5</th>\n",
       "      <td>In these trying times, Jackie Mason is the Voi...</td>\n",
       "      <td>train</td>\n",
       "      <td>in these trying times  jackie mason is the voi...</td>\n",
       "      <td>[in, these, trying, times, jackie, mason, is, ...</td>\n",
       "      <td>tri time jacki mason voic reason week exclus c...</td>\n",
       "    </tr>\n",
       "    <tr>\n",
       "      <th>6</th>\n",
       "      <td>Ever wonder how Britain’s most iconic pop pian...</td>\n",
       "      <td>train</td>\n",
       "      <td>ever wonder how britain s most iconic pop pian...</td>\n",
       "      <td>[ever, wonder, how, britain, s, most, iconic, ...</td>\n",
       "      <td>ever wonder britain icon pop pianist get long ...</td>\n",
       "    </tr>\n",
       "  </tbody>\n",
       "</table>\n",
       "</div>"
      ],
      "text/plain": [
       "                                                text train/test  \\\n",
       "0  House Dem Aide: We Didn’t Even See Comey’s Let...      train   \n",
       "1  Ever get the feeling your life circles the rou...      train   \n",
       "2  Why the Truth Might Get You Fired October 29, ...      train   \n",
       "3  Videos 15 Civilians Killed In Single US Airstr...      train   \n",
       "4  Print \\nAn Iranian woman has been sentenced to...      train   \n",
       "5  In these trying times, Jackie Mason is the Voi...      train   \n",
       "6  Ever wonder how Britain’s most iconic pop pian...      train   \n",
       "\n",
       "                                        cleaned_text  \\\n",
       "0  house dem aide  we didn t even see comey s let...   \n",
       "1  ever get the feeling your life circles the rou...   \n",
       "2  why the truth might get you fired october     ...   \n",
       "3  videos    civilians killed in single us airstr...   \n",
       "4  print  an iranian woman has been sentenced to ...   \n",
       "5  in these trying times  jackie mason is the voi...   \n",
       "6  ever wonder how britain s most iconic pop pian...   \n",
       "\n",
       "                                       text_to_words  \\\n",
       "0  [house, dem, aide, we, didn, t, even, see, com...   \n",
       "1  [ever, get, the, feeling, your, life, circles,...   \n",
       "2  [why, the, truth, might, get, you, fired, octo...   \n",
       "3  [videos, civilians, killed, in, single, us, ai...   \n",
       "4  [print, an, iranian, woman, has, been, sentenc...   \n",
       "5  [in, these, trying, times, jackie, mason, is, ...   \n",
       "6  [ever, wonder, how, britain, s, most, iconic, ...   \n",
       "\n",
       "                                       cleaned_words  \n",
       "0  hous dem aid even see comey letter jason chaff...  \n",
       "1  ever get feel life circl roundabout rather hea...  \n",
       "2  truth might get fire octob tension intellig an...  \n",
       "3  video civilian kill singl us airstrik identifi...  \n",
       "4  print iranian woman sentenc six year prison ir...  \n",
       "5  tri time jacki mason voic reason week exclus c...  \n",
       "6  ever wonder britain icon pop pianist get long ...  "
      ]
     },
     "execution_count": 12,
     "metadata": {},
     "output_type": "execute_result"
    }
   ],
   "source": [
    "combined_data.head(7)"
   ]
  },
  {
   "cell_type": "code",
   "execution_count": 13,
   "id": "3f25d8f9",
   "metadata": {},
   "outputs": [
    {
     "data": {
      "text/html": [
       "<div>\n",
       "<style scoped>\n",
       "    .dataframe tbody tr th:only-of-type {\n",
       "        vertical-align: middle;\n",
       "    }\n",
       "\n",
       "    .dataframe tbody tr th {\n",
       "        vertical-align: top;\n",
       "    }\n",
       "\n",
       "    .dataframe thead th {\n",
       "        text-align: right;\n",
       "    }\n",
       "</style>\n",
       "<table border=\"1\" class=\"dataframe\">\n",
       "  <thead>\n",
       "    <tr style=\"text-align: right;\">\n",
       "      <th></th>\n",
       "      <th>text</th>\n",
       "      <th>train/test</th>\n",
       "      <th>cleaned_text</th>\n",
       "      <th>text_to_words</th>\n",
       "      <th>cleaned_words</th>\n",
       "      <th>word_count</th>\n",
       "    </tr>\n",
       "  </thead>\n",
       "  <tbody>\n",
       "    <tr>\n",
       "      <th>0</th>\n",
       "      <td>House Dem Aide: We Didn’t Even See Comey’s Let...</td>\n",
       "      <td>train</td>\n",
       "      <td>house dem aide  we didn t even see comey s let...</td>\n",
       "      <td>[house, dem, aide, we, didn, t, even, see, com...</td>\n",
       "      <td>hous dem aid even see comey letter jason chaff...</td>\n",
       "      <td>433</td>\n",
       "    </tr>\n",
       "    <tr>\n",
       "      <th>1</th>\n",
       "      <td>Ever get the feeling your life circles the rou...</td>\n",
       "      <td>train</td>\n",
       "      <td>ever get the feeling your life circles the rou...</td>\n",
       "      <td>[ever, get, the, feeling, your, life, circles,...</td>\n",
       "      <td>ever get feel life circl roundabout rather hea...</td>\n",
       "      <td>367</td>\n",
       "    </tr>\n",
       "    <tr>\n",
       "      <th>2</th>\n",
       "      <td>Why the Truth Might Get You Fired October 29, ...</td>\n",
       "      <td>train</td>\n",
       "      <td>why the truth might get you fired october     ...</td>\n",
       "      <td>[why, the, truth, might, get, you, fired, octo...</td>\n",
       "      <td>truth might get fire octob tension intellig an...</td>\n",
       "      <td>692</td>\n",
       "    </tr>\n",
       "    <tr>\n",
       "      <th>3</th>\n",
       "      <td>Videos 15 Civilians Killed In Single US Airstr...</td>\n",
       "      <td>train</td>\n",
       "      <td>videos    civilians killed in single us airstr...</td>\n",
       "      <td>[videos, civilians, killed, in, single, us, ai...</td>\n",
       "      <td>video civilian kill singl us airstrik identifi...</td>\n",
       "      <td>305</td>\n",
       "    </tr>\n",
       "    <tr>\n",
       "      <th>4</th>\n",
       "      <td>Print \\nAn Iranian woman has been sentenced to...</td>\n",
       "      <td>train</td>\n",
       "      <td>print  an iranian woman has been sentenced to ...</td>\n",
       "      <td>[print, an, iranian, woman, has, been, sentenc...</td>\n",
       "      <td>print iranian woman sentenc six year prison ir...</td>\n",
       "      <td>86</td>\n",
       "    </tr>\n",
       "  </tbody>\n",
       "</table>\n",
       "</div>"
      ],
      "text/plain": [
       "                                                text train/test  \\\n",
       "0  House Dem Aide: We Didn’t Even See Comey’s Let...      train   \n",
       "1  Ever get the feeling your life circles the rou...      train   \n",
       "2  Why the Truth Might Get You Fired October 29, ...      train   \n",
       "3  Videos 15 Civilians Killed In Single US Airstr...      train   \n",
       "4  Print \\nAn Iranian woman has been sentenced to...      train   \n",
       "\n",
       "                                        cleaned_text  \\\n",
       "0  house dem aide  we didn t even see comey s let...   \n",
       "1  ever get the feeling your life circles the rou...   \n",
       "2  why the truth might get you fired october     ...   \n",
       "3  videos    civilians killed in single us airstr...   \n",
       "4  print  an iranian woman has been sentenced to ...   \n",
       "\n",
       "                                       text_to_words  \\\n",
       "0  [house, dem, aide, we, didn, t, even, see, com...   \n",
       "1  [ever, get, the, feeling, your, life, circles,...   \n",
       "2  [why, the, truth, might, get, you, fired, octo...   \n",
       "3  [videos, civilians, killed, in, single, us, ai...   \n",
       "4  [print, an, iranian, woman, has, been, sentenc...   \n",
       "\n",
       "                                       cleaned_words  word_count  \n",
       "0  hous dem aid even see comey letter jason chaff...         433  \n",
       "1  ever get feel life circl roundabout rather hea...         367  \n",
       "2  truth might get fire octob tension intellig an...         692  \n",
       "3  video civilian kill singl us airstrik identifi...         305  \n",
       "4  print iranian woman sentenc six year prison ir...          86  "
      ]
     },
     "execution_count": 13,
     "metadata": {},
     "output_type": "execute_result"
    }
   ],
   "source": [
    "# Function to count words\n",
    "def word_count(text):\n",
    "    text = str(text)\n",
    "    return len(text.split(' '))\n",
    "\n",
    "# Apply the word count function\n",
    "combined_data['word_count'] = combined_data['cleaned_words'].apply(word_count)\n",
    "combined_data.head()"
   ]
  },
  {
   "cell_type": "code",
   "execution_count": 14,
   "id": "0f4f7410",
   "metadata": {},
   "outputs": [
    {
     "name": "stdout",
     "output_type": "stream",
     "text": [
      "Text Before Preprocessing:\n",
      " 0    House Dem Aide: We Didn’t Even See Comey’s Let...\n",
      "0    PALO ALTO, Calif.  —   After years of scorning...\n",
      "Name: text, dtype: object\n",
      "\n",
      "Text After Preprocessing:\n",
      " 0    hous dem aid even see comey letter jason chaff...\n",
      "0    palo alto calif year scorn polit process silic...\n",
      "Name: cleaned_words, dtype: object\n"
     ]
    }
   ],
   "source": [
    "# Display the text before and after preprocessing\n",
    "print(\"Text Before Preprocessing:\\n\", combined_data[\"text\"][0])\n",
    "print(\"\\nText After Preprocessing:\\n\", combined_data[\"cleaned_words\"][0])"
   ]
  },
  {
   "cell_type": "markdown",
   "id": "8e09b843",
   "metadata": {},
   "source": [
    "## Splitting the data into training and testing data"
   ]
  },
  {
   "cell_type": "code",
   "execution_count": 15,
   "id": "083650fc",
   "metadata": {},
   "outputs": [],
   "source": [
    "# Split the combined data back into train and test sets\n",
    "train_data = combined_data[combined_data[\"train/test\"] == \"train\"]\n",
    "test_data = combined_data[combined_data[\"train/test\"] == \"test\"]"
   ]
  },
  {
   "cell_type": "markdown",
   "id": "2ca28bed",
   "metadata": {},
   "source": [
    "## Using one hot encoding and padding the encoded sequence"
   ]
  },
  {
   "cell_type": "code",
   "execution_count": 16,
   "id": "ddc27356",
   "metadata": {},
   "outputs": [],
   "source": [
    "# One-hot encoding\n",
    "vocab_size = 10000\n",
    "\n",
    "# One-hot encode train data\n",
    "train_words_list = train_data[\"cleaned_words\"].tolist()\n",
    "encoded_train = [one_hot(words, vocab_size) for words in train_words_list]\n",
    "\n",
    "# One-hot encode test data\n",
    "test_words_list = test_data[\"cleaned_words\"].tolist()\n",
    "encoded_test = [one_hot(words, vocab_size) for words in test_words_list]"
   ]
  },
  {
   "cell_type": "code",
   "execution_count": 17,
   "id": "f0f120a3",
   "metadata": {},
   "outputs": [],
   "source": [
    "# Padding sequences\n",
    "text_length = 500\n",
    "\n",
    "# Pad the encoded train data\n",
    "padded_train = pad_sequences(encoded_train, padding=\"pre\", maxlen=text_length)\n",
    "\n",
    "# Pad the encoded test data\n",
    "padded_test = pad_sequences(encoded_test, padding=\"pre\", maxlen=text_length)"
   ]
  },
  {
   "cell_type": "markdown",
   "id": "0c10145a",
   "metadata": {},
   "source": [
    "## Designing the LSTM model"
   ]
  },
  {
   "cell_type": "code",
   "execution_count": 18,
   "id": "5af01280",
   "metadata": {},
   "outputs": [
    {
     "name": "stdout",
     "output_type": "stream",
     "text": [
      "Model: \"sequential\"\n",
      "_________________________________________________________________\n",
      " Layer (type)                Output Shape              Param #   \n",
      "=================================================================\n",
      " embedding (Embedding)       (None, 500, 30)           300000    \n",
      "                                                                 \n",
      " dropout (Dropout)           (None, 500, 30)           0         \n",
      "                                                                 \n",
      " lstm (LSTM)                 (None, 50)                16200     \n",
      "                                                                 \n",
      " dropout_1 (Dropout)         (None, 50)                0         \n",
      "                                                                 \n",
      " dense (Dense)               (None, 1)                 51        \n",
      "                                                                 \n",
      "=================================================================\n",
      "Total params: 316,251\n",
      "Trainable params: 316,251\n",
      "Non-trainable params: 0\n",
      "_________________________________________________________________\n"
     ]
    }
   ],
   "source": [
    "# number of features is required to be mentioned in order to convert word into it's vector form \n",
    "embedding_features= 30\n",
    "\n",
    "model= Sequential()\n",
    "# this layer converts padded data into vectors\n",
    "model.add(Embedding(vocab_size, embedding_features, input_length= text_length))\n",
    "model.add(Dropout(0.3))\n",
    "\n",
    "# LSTM layer with 50 neurons\n",
    "model.add(LSTM(units= 50))\n",
    "model.add(Dropout(0.3))\n",
    "\n",
    "# output layer\n",
    "model.add(Dense(units=1, activation=\"sigmoid\"))\n",
    "\n",
    "model.summary()"
   ]
  },
  {
   "cell_type": "code",
   "execution_count": 19,
   "id": "e471120b",
   "metadata": {},
   "outputs": [],
   "source": [
    "# Assuming you have the labels for the train data in a column named \"label\"\n",
    "y = train['label']"
   ]
  },
  {
   "cell_type": "code",
   "execution_count": 20,
   "id": "a68b268c",
   "metadata": {},
   "outputs": [],
   "source": [
    "# Splitting the train data into training and validation sets\n",
    "X_train, X_val, y_train, y_val = train_test_split(padded_train, y, test_size=0.2, random_state=42)"
   ]
  },
  {
   "cell_type": "markdown",
   "id": "e5fa38c4",
   "metadata": {},
   "source": [
    "## Fitting the model"
   ]
  },
  {
   "cell_type": "code",
   "execution_count": 21,
   "id": "530bf2e7",
   "metadata": {},
   "outputs": [
    {
     "name": "stdout",
     "output_type": "stream",
     "text": [
      "Epoch 1/10\n",
      "167/167 [==============================] - 230s 1s/step - loss: 0.4747 - accuracy: 0.8043 - val_loss: 0.3408 - val_accuracy: 0.8675\n",
      "Epoch 2/10\n",
      "167/167 [==============================] - 245s 1s/step - loss: 0.2382 - accuracy: 0.9192 - val_loss: 0.2181 - val_accuracy: 0.9231\n",
      "Epoch 3/10\n",
      "167/167 [==============================] - 261s 2s/step - loss: 0.1648 - accuracy: 0.9448 - val_loss: 0.1889 - val_accuracy: 0.9346\n",
      "Epoch 4/10\n",
      "167/167 [==============================] - 218s 1s/step - loss: 0.1051 - accuracy: 0.9660 - val_loss: 0.1860 - val_accuracy: 0.9361\n",
      "Epoch 5/10\n",
      "167/167 [==============================] - 230s 1s/step - loss: 0.0737 - accuracy: 0.9784 - val_loss: 0.2174 - val_accuracy: 0.9365\n",
      "Epoch 6/10\n",
      "167/167 [==============================] - 217s 1s/step - loss: 0.0584 - accuracy: 0.9828 - val_loss: 0.2062 - val_accuracy: 0.9339\n",
      "Epoch 7/10\n",
      "167/167 [==============================] - 226s 1s/step - loss: 0.0405 - accuracy: 0.9890 - val_loss: 0.2282 - val_accuracy: 0.9339\n",
      "Epoch 8/10\n",
      "167/167 [==============================] - 257s 2s/step - loss: 0.0326 - accuracy: 0.9913 - val_loss: 0.2555 - val_accuracy: 0.9394\n",
      "Epoch 9/10\n",
      "167/167 [==============================] - 260s 2s/step - loss: 0.0256 - accuracy: 0.9922 - val_loss: 0.2893 - val_accuracy: 0.9024\n",
      "Epoch 10/10\n",
      "167/167 [==============================] - 258s 2s/step - loss: 0.2025 - accuracy: 0.9337 - val_loss: 0.2474 - val_accuracy: 0.9154\n"
     ]
    }
   ],
   "source": [
    "model.compile(loss= \"binary_crossentropy\", optimizer=\"adam\", metrics=[\"accuracy\"])\n",
    "history= model.fit(X_train, y_train,\n",
    "          validation_data= (X_val, y_val),\n",
    "          batch_size= 100, epochs=10)"
   ]
  },
  {
   "cell_type": "code",
   "execution_count": 22,
   "id": "8a5511b4",
   "metadata": {},
   "outputs": [
    {
     "name": "stdout",
     "output_type": "stream",
     "text": [
      "130/130 [==============================] - 8s 56ms/step\n"
     ]
    }
   ],
   "source": [
    "# Predicting on the validation set\n",
    "y_pred = (model.predict(X_val) > 0.5).astype(\"int32\")"
   ]
  },
  {
   "cell_type": "markdown",
   "id": "b0992f6c",
   "metadata": {},
   "source": [
    "## Predicting on the test data"
   ]
  },
  {
   "cell_type": "code",
   "execution_count": 23,
   "id": "ddc4a51e",
   "metadata": {},
   "outputs": [
    {
     "data": {
      "image/png": "[encoded data removed]",
      "text/plain": [
       "<Figure size 640x480 with 2 Axes>"
      ]
     },
     "metadata": {},
     "output_type": "display_data"
    }
   ],
   "source": [
    "# Confusion matrix\n",
    "cm = confusion_matrix(y_val, y_pred)\n",
    "fig, ax = plot_confusion_matrix(conf_mat=cm, show_absolute=True, show_normed=True, colorbar=True)\n",
    "plt.show()"
   ]
  },
  {
   "cell_type": "code",
   "execution_count": 24,
   "id": "929a5956",
   "metadata": {},
   "outputs": [],
   "source": [
    "model.save('fakenews.h5')"
   ]
  },
  {
   "cell_type": "code",
   "execution_count": 55,
   "id": "3211b641",
   "metadata": {},
   "outputs": [],
   "source": [
    "test = \"\"\" Guillermo Barros Schelotto was not the first Argentine player to set foot on a Major League Soccer field. Statistically speaking, he was the 28th when he made his debut for the Columbus Crew in 2007. But Schelottoâ€™s phone still rings to this day, more than six years after he left the league, with calls from fellow Argentines looking for advice. Though Schelotto, 43, is currently the coach of Boca Juniors, the most decorated team in Argentina, most of the players who call him want to talk about other teams, about other countries, about a soccer world away from the   environment of Buenos Aires. â€œMost of them like to talk about the cities,â€ Schelotto said. Many of them find a way to come. Argentines now make up the   demographic in M. L. S. trailing only Americans. According to the Elias Sports Bureau, going into this seasonâ€™s openers, 98 Argentine players had been featured in an M. L. S.   game since the leagueâ€™s inception. Sebastian Blanco, a new designated player for Portland, made his debut in an opener Friday and became No. 99. In a ranking by nationality, Argentines have the   goal total, too. Twelve of the 22 teams in M. L. S. will start the season with at least one Argentine on their roster, a list that includes stars like Dallasâ€™s Mauro Diaz and Montrealâ€™s Ignacio Piatti and newcomers like Atlantaâ€™s Hector Villalba and New York City F. C.â€™s Maxi Moralez. Why do they come? For some itâ€™s the money, or at least the promise that it will be paid regularly. Others come for the lifestyle, the chance to fade into a comparative anonymity unavailable to them at home, or to live the â€œquiet, cleanâ€ life that Schelotto describes as he reminisces about his days in Ohio. The Portland Timbers playmaker Diego Valeri was one such player who called Schelotto, his former manager, and he eventually heeded his advice. But he said it was for an entirely different reason. A year before he signed with Portland, while under contract to his hometown club Lanus, Valeri had had a gun pressed to his throat when robbers attempted to steal his BMW with his wife, Florencia, and daughter, Connie, inside. â€œAfter that moment,â€ Valeri said with considerable understatement, â€œwe thought about opportunities to play outside and know different places in the world. â€ Within a year, Valeri, who had had loan spells in Portugal and Spain, was on his way to Portland. â€œSituations like that are very hard for the Argentinian people to change,â€ he said. The    Valeri and his family are now settled in the Northwest, where he is playing arguably the best soccer of his career. He is a     and in between was named the most valuable player when Portland won the 2015 M. L. S. Cup championship game. â€œI think they like the anonymity and the tranquillity here,â€ Caleb Porter, Valeriâ€™s coach with the Timbers, said of his star and his countrymen. â€œThey really relish the opportunity to be here and to live a lifestyle thatâ€™s different to how they lived in Argentina. They transition well into M. L. S. â€ Since 2011, Portland has signed six Argentines, including its   acquisition of Blanco, 28. Valeri has been a good ambassador  â€”   he speaks English and urges newcomers to try to learn it as soon as possible, to ease the transition. But Porter and the Timbersâ€™ general manager and president of soccer, Gavin Wilkinson, believe there is another, more straightforward reason for Argentinaâ€™s outsize presence in M. L. S.: It simply produces the kind of technical player that the league desires. â€œCertain countries produce certain positions more,â€ Porter said. â€œMost teams are looking for that creative piece, and you know you can get one in Argentina. â€ A large alumni directory and strong ties to agents and consultants in the region have made that kind of shopping easier for M. L. S. teams, and in the past the struggles of the Argentine economy also favored North American clubs, some said. But there also has been a change in the kind of individual looking to make the move north, and that has dovetailed with the leagueâ€™s overall transfer policy. As the quality of M. L. S. has improved as it enters its third decade, its teams have looked less for marketability from its imports  â€”   which in the past had trended toward aging, often European stars  â€”   and more toward onfield impact and value. The latest class of Argentines reflects this shift, as they enter a league where the average age of designated players  â€”   the teamâ€™s   stars  â€”   has fallen below 28, its lowest point in a decade. â€œThey know that M. L. S. is different to 10 years ago,â€ said Schelotto, who was 34 when he moved to the league. â€œThey can go, make good money, play with some pressure. They know they can make a career in the United States and then maybe move to Europe. â€œTen years ago, it was impossible. Right now, you can. â€ There are currently 24 Argentines playing in the league. Atlanta United and its Argentine coach, Tata Martino, brought in three ahead of its first season, each of them 25 or younger (Villalba is just 22). Buying young is now seen as more of a benefit to clubs than a risk, as players who continue to develop retain a   value if they move on to brighter prospects in Europe. â€œPeople are coming here younger and younger, maybe to start their careers,â€ Ignacio Piatti, a    playmaker for the Montreal Impact, said through an interpreter. â€œItâ€™s what they are looking for at that age: being able to live a comfortable life off the field and focus on their games. â€ Piatti, like Schelotto, has been happy to offer advice to the next wave of Argentine talents considering entering M. L. S. including players on both sides of the Hudson River. Gonzalo Veron, 27, of the Red Bulls, and Moralez, 30, who recently signed with New York City F. C. both acknowledged that they had turned to Piatti for advice before signing. At a community event in East Harlem last week, Moralez  â€”   who spent four years in Italy  â€”   reflected on his decision to move to the United States. He had never been to New York City before signing, he said, and after turning to the likes of Piatti and David Villa for advice about the leagueâ€™s standard of play, he said he also sought assurances for his family, who are set to join him in New York shortly. â€œFirst off, I just want to enjoy football,â€ Moralez said. â€œBut also to get to know the beauty of the city and the country. Not everybody gets the opportunity to come here. â€\"\"\""
   ]
  },
  {
   "cell_type": "code",
   "execution_count": 56,
   "id": "290bc58c",
   "metadata": {},
   "outputs": [],
   "source": [
    "corpus_test = []\n",
    "review = re.sub('[^a-zA-Z]', ' ',test)\n",
    "review = review.lower()\n",
    "review = review.split()\n",
    "\n",
    "review = [stemmer.stem(word) for word in review if not word in stopwords.words('english')]\n",
    "review = ' '.join(review)\n",
    "corpus_test.append(review)"
   ]
  },
  {
   "cell_type": "code",
   "execution_count": 57,
   "id": "dd859f88",
   "metadata": {},
   "outputs": [],
   "source": [
    "onehot_repr_test = [one_hot(words,vocab_size)for words in corpus_test] "
   ]
  },
  {
   "cell_type": "code",
   "execution_count": 58,
   "id": "066de5a8",
   "metadata": {},
   "outputs": [
    {
     "name": "stdout",
     "output_type": "stream",
     "text": [
      "[[8177  791 3267 7036 1607 1277 2851 8124 9177 5274 1471 4726 5744 6473\n",
      "  3272 8177 2179 1781 7124 7631 2146 2722 2179 7961 2363]]\n"
     ]
    }
   ],
   "source": [
    "sent_length = 25\n",
    "\n",
    "embedded_docs_test = pad_sequences(onehot_repr_test,padding='pre',maxlen=sent_length)\n",
    "print(embedded_docs_test)"
   ]
  },
  {
   "cell_type": "code",
   "execution_count": 59,
   "id": "c19d4fd1",
   "metadata": {},
   "outputs": [],
   "source": [
    "X_test = np.array(embedded_docs_test)"
   ]
  },
  {
   "cell_type": "code",
   "execution_count": 60,
   "id": "75728fc4",
   "metadata": {},
   "outputs": [
    {
     "name": "stdout",
     "output_type": "stream",
     "text": [
      "1/1 [==============================] - 0s 62ms/step\n"
     ]
    }
   ],
   "source": [
    "check = model.predict(X_test)"
   ]
  },
  {
   "cell_type": "code",
   "execution_count": 61,
   "id": "f120764d",
   "metadata": {},
   "outputs": [
    {
     "data": {
      "text/plain": [
       "array([[0.02241766]], dtype=float32)"
      ]
     },
     "execution_count": 61,
     "metadata": {},
     "output_type": "execute_result"
    }
   ],
   "source": [
    "check"
   ]
  },
  {
   "cell_type": "code",
   "execution_count": 62,
   "id": "bebe6ab9",
   "metadata": {},
   "outputs": [
    {
     "name": "stdout",
     "output_type": "stream",
     "text": [
      "Real News\n"
     ]
    }
   ],
   "source": [
    "if check <= 0.6:\n",
    "    print(\"Real News\")\n",
    "else:\n",
    "    print(\"Fake News\")"
   ]
  },
  {
   "cell_type": "code",
   "execution_count": null,
   "id": "ee3c948e",
   "metadata": {},
   "outputs": [],
   "source": []
  }
 ],
 "metadata": {
  "kernelspec": {
   "display_name": "Python 3 (ipykernel)",
   "language": "python",
   "name": "python3"
  },
  "language_info": {
   "codemirror_mode": {
    "name": "ipython",
    "version": 3
   },
   "file_extension": ".py",
   "mimetype": "text/x-python",
   "name": "python",
   "nbconvert_exporter": "python",
   "pygments_lexer": "ipython3",
   "version": "3.11.2"
  }
 },
 "nbformat": 4,
 "nbformat_minor": 5
}
